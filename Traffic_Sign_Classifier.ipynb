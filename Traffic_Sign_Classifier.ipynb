{
 "cells": [
  {
   "cell_type": "markdown",
   "metadata": {},
   "source": [
    "# Self-Driving Car Engineer Nanodegree\n",
    "\n",
    "## Deep Learning\n",
    "\n",
    "## Project: Build a Traffic Sign Recognition Classifier\n",
    "\n",
    "In this notebook, a template is provided for you to implement your functionality in stages, which is required to successfully complete this project. If additional code is required that cannot be included in the notebook, be sure that the Python code is successfully imported and included in your submission if necessary. \n",
    "\n",
    "> **Note**: Once you have completed all of the code implementations, you need to finalize your work by exporting the iPython Notebook as an HTML document. Before exporting the notebook to html, all of the code cells need to have been run so that reviewers can see the final implementation and output. You can then export the notebook by using the menu above and navigating to  \\n\",\n",
    "    \"**File -> Download as -> HTML (.html)**. Include the finished document along with this notebook as your submission. \n",
    "\n",
    "In addition to implementing code, there is a writeup to complete. The writeup should be completed in a separate file, which can be either a markdown file or a pdf document. There is a [write up template](https://github.com/udacity/CarND-Traffic-Sign-Classifier-Project/blob/master/writeup_template.md) that can be used to guide the writing process. Completing the code template and writeup template will cover all of the [rubric points](https://review.udacity.com/#!/rubrics/481/view) for this project.\n",
    "\n",
    "The [rubric](https://review.udacity.com/#!/rubrics/481/view) contains \"Stand Out Suggestions\" for enhancing the project beyond the minimum requirements. The stand out suggestions are optional. If you decide to pursue the \"stand out suggestions\", you can include the code in this Ipython notebook and also discuss the results in the writeup file.\n",
    "\n",
    "\n",
    ">**Note:** Code and Markdown cells can be executed using the **Shift + Enter** keyboard shortcut. In addition, Markdown cells can be edited by typically double-clicking the cell to enter edit mode."
   ]
  },
  {
   "cell_type": "markdown",
   "metadata": {},
   "source": [
    "---\n",
    "## Step 0: Load The Data"
   ]
  },
  {
   "cell_type": "code",
   "execution_count": 12,
   "metadata": {
    "collapsed": true
   },
   "outputs": [],
   "source": [
    "# Load pickled data\n",
    "import pickle\n",
    "\n",
    "# TODO: Fill this in based on where you saved the training and testing data\n",
    "\n",
    "training_file = '../traffic-signs-data/train.p'\n",
    "validation_file='../traffic-signs-data/valid.p'\n",
    "testing_file = '../traffic-signs-data/test.p'\n",
    "\n",
    "with open(training_file, mode='rb') as f:\n",
    "    train = pickle.load(f)\n",
    "with open(validation_file, mode='rb') as f:\n",
    "    valid = pickle.load(f)\n",
    "with open(testing_file, mode='rb') as f:\n",
    "    test = pickle.load(f)\n",
    "    \n",
    "X_train, y_train = train['features'], train['labels']\n",
    "X_valid, y_valid = valid['features'], valid['labels']\n",
    "X_test, y_test = test['features'], test['labels']"
   ]
  },
  {
   "cell_type": "markdown",
   "metadata": {},
   "source": [
    "---\n",
    "\n",
    "## Step 1: Dataset Summary & Exploration\n",
    "\n",
    "The pickled data is a dictionary with 4 key/value pairs:\n",
    "\n",
    "- `'features'` is a 4D array containing raw pixel data of the traffic sign images, (num examples, width, height, channels).\n",
    "- `'labels'` is a 1D array containing the label/class id of the traffic sign. The file `signnames.csv` contains id -> name mappings for each id.\n",
    "- `'sizes'` is a list containing tuples, (width, height) representing the original width and height the image.\n",
    "- `'coords'` is a list containing tuples, (x1, y1, x2, y2) representing coordinates of a bounding box around the sign in the image. **THESE COORDINATES ASSUME THE ORIGINAL IMAGE. THE PICKLED DATA CONTAINS RESIZED VERSIONS (32 by 32) OF THESE IMAGES**\n",
    "\n",
    "Complete the basic data summary below. Use python, numpy and/or pandas methods to calculate the data summary rather than hard coding the results. For example, the [pandas shape method](http://pandas.pydata.org/pandas-docs/stable/generated/pandas.DataFrame.shape.html) might be useful for calculating some of the summary results. "
   ]
  },
  {
   "cell_type": "markdown",
   "metadata": {},
   "source": [
    "### Provide a Basic Summary of the Data Set Using Python, Numpy and/or Pandas"
   ]
  },
  {
   "cell_type": "code",
   "execution_count": 14,
   "metadata": {},
   "outputs": [
    {
     "name": "stdout",
     "output_type": "stream",
     "text": [
      "Number of training examples = 34799\n",
      "Number of validation examples = 4410\n",
      "Number of testing examples = 12630\n",
      "Image data shape = (32, 32)\n",
      "Number of classes = 43\n"
     ]
    }
   ],
   "source": [
    "\n",
    "### Replace each question mark with the appropriate value. \n",
    "### Use python, pandas or numpy methods rather than hard coding the results\n",
    "\n",
    "# TODO: Number of training examples\n",
    "n_train = X_train.shape[0]\n",
    "\n",
    "# TODO: Number of validation examples\n",
    "n_validation = X_valid.shape[0]\n",
    "\n",
    "# TODO: Number of testing examples.\n",
    "n_test = X_test.shape[0]\n",
    "\n",
    "# TODO: What's the shape of an traffic sign image?\n",
    "image_shape = (X_train.shape[1], X_train.shape[2])\n",
    "\n",
    "# TODO: How many unique classes/labels there are in the dataset.\n",
    "n_classes = 43\n",
    "\n",
    "print(\"Number of training examples =\", n_train)\n",
    "print(\"Number of validation examples =\", n_validation)\n",
    "print(\"Number of testing examples =\", n_test)\n",
    "print(\"Image data shape =\", image_shape)\n",
    "print(\"Number of classes =\", n_classes)"
   ]
  },
  {
   "cell_type": "markdown",
   "metadata": {},
   "source": [
    "### Include an exploratory visualization of the dataset"
   ]
  },
  {
   "cell_type": "markdown",
   "metadata": {},
   "source": [
    "Visualize the German Traffic Signs Dataset using the pickled file(s). This is open ended, suggestions include: plotting traffic sign images, plotting the count of each sign, etc. \n",
    "\n",
    "The [Matplotlib](http://matplotlib.org/) [examples](http://matplotlib.org/examples/index.html) and [gallery](http://matplotlib.org/gallery.html) pages are a great resource for doing visualizations in Python.\n",
    "\n",
    "**NOTE:** It's recommended you start with something simple first. If you wish to do more, come back to it after you've completed the rest of the sections. It can be interesting to look at the distribution of classes in the training, validation and test set. Is the distribution the same? Are there more examples of some classes than others?"
   ]
  },
  {
   "cell_type": "code",
   "execution_count": 15,
   "metadata": {},
   "outputs": [
    {
     "name": "stdout",
     "output_type": "stream",
     "text": [
      "33\n"
     ]
    },
    {
     "data": {
      "image/png": "[encoded data removed]",
      "text/plain": [
       "<matplotlib.figure.Figure at 0x7f44b84a09e8>"
      ]
     },
     "metadata": {},
     "output_type": "display_data"
    }
   ],
   "source": [
    "### Data exploration visualization code goes here.\n",
    "### Feel free to use as many code cells as needed.\n",
    "import random\n",
    "import matplotlib.pyplot as plt\n",
    "# Visualizations will be shown in the notebook.\n",
    "%matplotlib inline\n",
    "\n",
    "def plt_img_lbl(image):\n",
    "    plt.figure(figsize=(3,3))\n",
    "    plt.imshow(image)\n",
    "    print(y_train[index])\n",
    "index = random.randint(0, len(X_train))\n",
    "image = X_train[index]\n",
    "\n",
    "plt_img_lbl(image)\n"
   ]
  },
  {
   "cell_type": "markdown",
   "metadata": {},
   "source": [
    "----\n",
    "\n",
    "## Step 2: Design and Test a Model Architecture\n",
    "\n",
    "Design and implement a deep learning model that learns to recognize traffic signs. Train and test your model on the [German Traffic Sign Dataset](http://benchmark.ini.rub.de/?section=gtsrb&subsection=dataset).\n",
    "\n",
    "The LeNet-5 implementation shown in the [classroom](https://classroom.udacity.com/nanodegrees/nd013/parts/fbf77062-5703-404e-b60c-95b78b2f3f9e/modules/6df7ae49-c61c-4bb2-a23e-6527e69209ec/lessons/601ae704-1035-4287-8b11-e2c2716217ad/concepts/d4aca031-508f-4e0b-b493-e7b706120f81) at the end of the CNN lesson is a solid starting point. You'll have to change the number of classes and possibly the preprocessing, but aside from that it's plug and play! \n",
    "\n",
    "With the LeNet-5 solution from the lecture, you should expect a validation set accuracy of about 0.89. To meet specifications, the validation set accuracy will need to be at least 0.93. It is possible to get an even higher accuracy, but 0.93 is the minimum for a successful project submission. \n",
    "\n",
    "There are various aspects to consider when thinking about this problem:\n",
    "\n",
    "- Neural network architecture (is the network over or underfitting?)\n",
    "- Play around preprocessing techniques (normalization, rgb to grayscale, etc)\n",
    "- Number of examples per label (some have more than others).\n",
    "- Generate fake data.\n",
    "\n",
    "Here is an example of a [published baseline model on this problem](http://yann.lecun.com/exdb/publis/pdf/sermanet-ijcnn-11.pdf). It's not required to be familiar with the approach used in the paper but, it's good practice to try to read papers like these."
   ]
  },
  {
   "cell_type": "markdown",
   "metadata": {},
   "source": [
    "### Pre-process the Data Set (normalization, grayscale, etc.)"
   ]
  },
  {
   "cell_type": "markdown",
   "metadata": {},
   "source": [
    "Minimally, the image data should be normalized so that the data has mean zero and equal variance. For image data, `(pixel - 128)/ 128` is a quick way to approximately normalize the data and can be used in this project. \n",
    "\n",
    "Other pre-processing steps are optional. You can try different techniques to see if it improves performance. \n",
    "\n",
    "Use the code cell (or multiple code cells, if necessary) to implement the first step of your project."
   ]
  },
  {
   "cell_type": "code",
   "execution_count": 16,
   "metadata": {
    "collapsed": true
   },
   "outputs": [],
   "source": [
    "### Preprocess the data here. It is required to normalize the data. Other preprocessing steps could include \n",
    "### converting to grayscale, etc.\n",
    "### Feel free to use as many code cells as needed.\n",
    "import cv2\n",
    "\n",
    "def gray_normalize(img):\n",
    "    print(img.shape)\n",
    "    out_img = cv2.cvtColor(image, cv2.COLOR_BGR2GRAY)\n",
    "    print(out_img.shape)\n",
    "    \n",
    "    return out_img\n",
    "\n",
    "\n"
   ]
  },
  {
   "cell_type": "markdown",
   "metadata": {},
   "source": [
    "\n",
    "### Model Architecture"
   ]
  },
  {
   "cell_type": "code",
   "execution_count": 17,
   "metadata": {
    "collapsed": true
   },
   "outputs": [],
   "source": [
    "### Define your architecture here.\n",
    "### Feel free to use as many code cells as needed.\n",
    "import tensorflow as tf\n",
    "from tensorflow.contrib.layers import flatten\n",
    "\n",
    "def trafficNet(x):\n",
    "    # Architecture\n",
    "    # x --> cv1(relu) --> p1 --> cv2(relu) --> p2 --> fc1(relu) --> fc2 --> output  \n",
    "    \n",
    "    mu = 0\n",
    "    sigma = 0.1\n",
    "    w = {'w_cv1':tf.Variable(tf.truncated_normal(shape = (5,5,3,8), mean = mu, stddev = sigma)),\n",
    "         'w_cv2':tf.Variable(tf.truncated_normal(shape = (5,5,8,16), mean = mu, stddev = sigma)),\n",
    "         'w_cv3':tf.Variable(tf.truncated_normal(shape = (5,5,16,32), mean = mu, stddev = sigma)),\n",
    "         'w_fc1':tf.Variable(tf.truncated_normal(shape = (400, 200), mean = mu, stddev = sigma)),\n",
    "         'w_fc2':tf.Variable(tf.truncated_normal(shape = (200, n_classes), mean = mu, stddev = sigma))  }\n",
    "    \n",
    "    b = {'b_cv1':tf.Variable(tf.zeros(shape = (8))),\n",
    "         'b_cv2':tf.Variable(tf.zeros(shape = (16))),\n",
    "         'b_cv3':tf.Variable(tf.zeros(shape = (32))),\n",
    "         'b_fc1':tf.Variable(tf.zeros(shape = (200))),\n",
    "         'b_fc2':tf.Variable(tf.zeros(shape = (n_classes)))  }\n",
    "    \n",
    "    s = {'s_cv1':[1,1,1,1],\n",
    "         's_cv2':[1,1,1,1],\n",
    "         's_cv3':[1,1,1,1],\n",
    "         's_p1' :[1,2,2,1],\n",
    "         's_p2' :[1,2,2,1] }\n",
    "    \n",
    "    # define the computational graph\n",
    "    # convolution layer 1\n",
    "    # input 32x32x3 --> output 28x28x8\n",
    "    cv1 = tf.nn.conv2d(x, w['w_cv1'], strides=s['s_cv1'], padding='VALID') + b['b_cv1']\n",
    "    cv1 = tf.nn.relu(cv1)\n",
    "\n",
    "    # pooling layer 1\n",
    "    # input 28x28x8 --> output 14x14x8\n",
    "    p1 = tf.nn.max_pool(cv1, ksize=[1,2,2,1], strides=s['s_p1'], padding='VALID') \n",
    "\n",
    "    # convolution layer 2\n",
    "    # input 14x14x8 --> output 10x10x16\n",
    "    cv2 = tf.nn.conv2d(p1, w['w_cv2'], strides=s['s_cv2'], padding='VALID') + b['b_cv2']\n",
    "    cv2 = tf.nn.relu(cv2)\n",
    "\n",
    "   \n",
    "    # pooling layer 2\n",
    "    # input 10x10x16 --> output 5x5x16\n",
    "    p2 = tf.nn.max_pool(cv2, ksize=[1,2,2,1], strides=s['s_p2'], padding='VALID') \n",
    "    \n",
    "    # flatten for connecting to fc\n",
    "    p2_flat = flatten(p2)\n",
    "    \n",
    "    # fc1\n",
    "    # input 400 --> output 200\n",
    "    fc1 = tf.matmul(p2_flat, w['w_fc1']) + b['b_fc1']\n",
    "    fc1 = tf.nn.relu(fc1)\n",
    "   \n",
    "    # fc2\n",
    "    # input 200 --> output n_classes\n",
    "    out_logits = tf.matmul(fc1, w['w_fc2']) + b['b_fc2']\n",
    "    \n",
    "    return out_logits\n",
    "\n"
   ]
  },
  {
   "cell_type": "markdown",
   "metadata": {},
   "source": [
    "### Train, Validate and Test the Model"
   ]
  },
  {
   "cell_type": "markdown",
   "metadata": {},
   "source": [
    "A validation set can be used to assess how well the model is performing. A low accuracy on the training and validation\n",
    "sets imply underfitting. A high accuracy on the training set but low accuracy on the validation set implies overfitting."
   ]
  },
  {
   "cell_type": "code",
   "execution_count": 22,
   "metadata": {
    "scrolled": true
   },
   "outputs": [
    {
     "name": "stdout",
     "output_type": "stream",
     "text": [
      "Epoch 1/40: training cost = 1622.7043229341507 : time elapsed 2.312767505645752s\n",
      "Epoch 1/40: Cross-Validation Accuracy = 0.579818597321067 : time elapsed 2.4644711017608643s\n",
      "\n",
      "Epoch 2/40: training cost = 293.8330316245556 : time elapsed 2.2191858291625977s\n",
      "Epoch 2/40: Cross-Validation Accuracy = 0.7158730170624056 : time elapsed 2.3557851314544678s\n",
      "\n",
      "Epoch 3/40: training cost = 155.60201168060303 : time elapsed 2.186765193939209s\n",
      "Epoch 3/40: Cross-Validation Accuracy = 0.7752834470634288 : time elapsed 2.3184452056884766s\n",
      "\n",
      "Epoch 4/40: training cost = 106.45105198770761 : time elapsed 2.1966850757598877s\n",
      "Epoch 4/40: Cross-Validation Accuracy = 0.7873015874097137 : time elapsed 2.3320019245147705s\n",
      "\n",
      "Epoch 5/40: training cost = 72.64769270643592 : time elapsed 2.2223668098449707s\n",
      "Epoch 5/40: Cross-Validation Accuracy = 0.8390022693307492 : time elapsed 2.3573694229125977s\n",
      "\n",
      "Epoch 6/40: training cost = 54.80228826031089 : time elapsed 2.219346761703491s\n",
      "Epoch 6/40: Cross-Validation Accuracy = 0.8458049852831834 : time elapsed 2.354292392730713s\n",
      "\n",
      "Epoch 7/40: training cost = 40.01445047929883 : time elapsed 2.2221672534942627s\n",
      "Epoch 7/40: Cross-Validation Accuracy = 0.8480725645208035 : time elapsed 2.3562796115875244s\n",
      "\n",
      "Epoch 8/40: training cost = 40.10903807077557 : time elapsed 2.2258129119873047s\n",
      "Epoch 8/40: Cross-Validation Accuracy = 0.852154194092264 : time elapsed 2.3605544567108154s\n",
      "\n",
      "Epoch 9/40: training cost = 36.71901362761855 : time elapsed 2.2226815223693848s\n",
      "Epoch 9/40: Cross-Validation Accuracy = 0.8632653078524705 : time elapsed 2.360426902770996s\n",
      "\n",
      "Epoch 10/40: training cost = 32.95218337373808 : time elapsed 2.2251839637756348s\n",
      "Epoch 10/40: Cross-Validation Accuracy = 0.8605442178222328 : time elapsed 2.3605499267578125s\n",
      "\n",
      "Epoch 11/40: training cost = 25.24533111625351 : time elapsed 2.221621513366699s\n",
      "Epoch 11/40: Cross-Validation Accuracy = 0.865306123854622 : time elapsed 2.3570797443389893s\n",
      "\n",
      "Epoch 12/40: training cost = 21.476038397988304 : time elapsed 2.2233617305755615s\n",
      "Epoch 12/40: Cross-Validation Accuracy = 0.8736961493416439 : time elapsed 2.3605668544769287s\n",
      "\n",
      "Epoch 13/40: training cost = 25.668984295334667 : time elapsed 2.224536418914795s\n",
      "Epoch 13/40: Cross-Validation Accuracy = 0.8886621363308965 : time elapsed 2.360909938812256s\n",
      "\n",
      "Epoch 14/40: training cost = 22.349958269740455 : time elapsed 2.2243094444274902s\n",
      "Epoch 14/40: Cross-Validation Accuracy = 0.8712018125451881 : time elapsed 2.3600692749023438s\n",
      "\n",
      "Epoch 15/40: training cost = 22.409670165739954 : time elapsed 2.225062131881714s\n",
      "Epoch 15/40: Cross-Validation Accuracy = 0.8736961425837476 : time elapsed 2.360954523086548s\n",
      "\n",
      "Epoch 16/40: training cost = 20.094561148202047 : time elapsed 2.2265284061431885s\n",
      "Epoch 16/40: Cross-Validation Accuracy = 0.8907029450345202 : time elapsed 2.36236310005188s\n",
      "\n",
      "Epoch 17/40: training cost = 15.945180701382924 : time elapsed 2.2243435382843018s\n",
      "Epoch 17/40: Cross-Validation Accuracy = 0.8784580522654007 : time elapsed 2.359043598175049s\n",
      "\n",
      "Epoch 18/40: training cost = 16.98736063000979 : time elapsed 2.2158255577087402s\n",
      "Epoch 18/40: Cross-Validation Accuracy = 0.877097508939756 : time elapsed 2.3527352809906006s\n",
      "\n",
      "Epoch 19/40: training cost = 25.251470726623666 : time elapsed 2.221207857131958s\n",
      "Epoch 19/40: Cross-Validation Accuracy = 0.8968253961496072 : time elapsed 2.3566935062408447s\n",
      "\n",
      "Epoch 20/40: training cost = 17.18734304884856 : time elapsed 2.224719285964966s\n",
      "Epoch 20/40: Cross-Validation Accuracy = 0.8827664422340133 : time elapsed 2.3591132164001465s\n",
      "\n",
      "Epoch 21/40: training cost = 12.998791564605199 : time elapsed 2.224771499633789s\n",
      "Epoch 21/40: Cross-Validation Accuracy = 0.8827664406121183 : time elapsed 2.3617870807647705s\n",
      "\n",
      "Epoch 22/40: training cost = 14.238172256649705 : time elapsed 2.217874765396118s\n",
      "Epoch 22/40: Cross-Validation Accuracy = 0.8553287951854351 : time elapsed 2.351341962814331s\n",
      "\n",
      "Epoch 23/40: training cost = 24.580117318080738 : time elapsed 2.215404510498047s\n",
      "Epoch 23/40: Cross-Validation Accuracy = 0.8922902505143699 : time elapsed 2.3502743244171143s\n",
      "\n",
      "Epoch 24/40: training cost = 18.527019042507163 : time elapsed 2.225395917892456s\n",
      "Epoch 24/40: Cross-Validation Accuracy = 0.8868480746437903 : time elapsed 2.3617424964904785s\n",
      "\n",
      "Epoch 25/40: training cost = 13.828030841206782 : time elapsed 2.216759204864502s\n",
      "Epoch 25/40: Cross-Validation Accuracy = 0.8986394589179768 : time elapsed 2.3505687713623047s\n",
      "\n",
      "Epoch 26/40: training cost = 13.23145263864717 : time elapsed 2.2079763412475586s\n",
      "Epoch 26/40: Cross-Validation Accuracy = 0.8961451250949954 : time elapsed 2.34529972076416s\n",
      "\n",
      "Epoch 27/40: training cost = 12.571760702499887 : time elapsed 2.2140250205993652s\n",
      "Epoch 27/40: Cross-Validation Accuracy = 0.877551020948795 : time elapsed 2.3505427837371826s\n",
      "\n",
      "Epoch 28/40: training cost = 19.527836212553666 : time elapsed 2.2211389541625977s\n",
      "Epoch 28/40: Cross-Validation Accuracy = 0.8981859421784104 : time elapsed 2.355830430984497s\n",
      "\n",
      "Epoch 29/40: training cost = 9.387783009180566 : time elapsed 2.220721483230591s\n",
      "Epoch 29/40: Cross-Validation Accuracy = 0.9099773236142805 : time elapsed 2.358783483505249s\n",
      "\n",
      "Epoch 30/40: training cost = 28.018939595101983 : time elapsed 2.222499370574951s\n",
      "Epoch 30/40: Cross-Validation Accuracy = 0.886621316544323 : time elapsed 2.359987258911133s\n",
      "\n",
      "Epoch 31/40: training cost = 15.372684639674844 : time elapsed 2.2191953659057617s\n",
      "Epoch 31/40: Cross-Validation Accuracy = 0.9072562375036227 : time elapsed 2.355410099029541s\n",
      "\n",
      "Epoch 32/40: training cost = 14.046522858210665 : time elapsed 2.218655824661255s\n",
      "Epoch 32/40: Cross-Validation Accuracy = 0.9133786886187097 : time elapsed 2.3535070419311523s\n",
      "\n",
      "Epoch 33/40: training cost = 5.79295810912663 : time elapsed 2.2203731536865234s\n",
      "Epoch 33/40: Cross-Validation Accuracy = 0.9043083877520226 : time elapsed 2.3569347858428955s\n",
      "\n",
      "Epoch 34/40: training cost = 3.3544688132201372 : time elapsed 2.224343776702881s\n",
      "Epoch 34/40: Cross-Validation Accuracy = 0.9083900275954854 : time elapsed 2.359649896621704s\n",
      "\n",
      "Epoch 35/40: training cost = 23.078439464812163 : time elapsed 2.225548267364502s\n",
      "Epoch 35/40: Cross-Validation Accuracy = 0.8655328834408265 : time elapsed 2.3608551025390625s\n",
      "\n",
      "Epoch 36/40: training cost = 26.455886187883152 : time elapsed 2.224980592727661s\n",
      "Epoch 36/40: Cross-Validation Accuracy = 0.8907029493595737 : time elapsed 2.3629629611968994s\n",
      "\n",
      "Epoch 37/40: training cost = 14.246372909597994 : time elapsed 2.2220425605773926s\n",
      "Epoch 37/40: Cross-Validation Accuracy = 0.8893424034659284 : time elapsed 2.359312057495117s\n",
      "\n",
      "Epoch 38/40: training cost = 12.15530211966552 : time elapsed 2.225383996963501s\n",
      "Epoch 38/40: Cross-Validation Accuracy = 0.9049886659700044 : time elapsed 2.360558032989502s\n",
      "\n",
      "Epoch 39/40: training cost = 4.315518624185415 : time elapsed 2.2237627506256104s\n",
      "Epoch 39/40: Cross-Validation Accuracy = 0.9138322015738541 : time elapsed 2.3596246242523193s\n",
      "\n",
      "Epoch 40/40: training cost = 19.310419073033472 : time elapsed 2.226219415664673s\n",
      "Epoch 40/40: Cross-Validation Accuracy = 0.8965986373743503 : time elapsed 2.3635804653167725s\n",
      "\n"
     ]
    }
   ],
   "source": [
    "### Train your model here.\n",
    "### Calculate and report the accuracy on the training and validation set.\n",
    "### Once a final model architecture is selected, \n",
    "### the accuracy on the test set should be calculated and reported as well.\n",
    "### Feel free to use as many code cells as needed.\n",
    "from sklearn.utils import shuffle\n",
    "import time\n",
    "\n",
    "x = tf.placeholder(tf.float32,(None, 32, 32, 3))\n",
    "y = tf.placeholder(tf.int32,(None))\n",
    "one_hot_y = tf.one_hot(y, n_classes)\n",
    "out_logits = trafficNet(x)\n",
    "\n",
    "n_epochs = 40\n",
    "batch_size = 100\n",
    "\n",
    "# training definitions\n",
    "cost = tf.reduce_mean(tf.nn.softmax_cross_entropy_with_logits_v2(labels=one_hot_y, logits=out_logits) )\n",
    "optimizer = tf.train.AdamOptimizer(learning_rate=0.001).minimize(cost)\n",
    "\n",
    "# validation definition\n",
    "accuracy = tf.reduce_mean( tf.cast( tf.equal(tf.argmax(out_logits,1) , tf.argmax(one_hot_y, 1)), tf.float32) )\n",
    "\n",
    "# prediction definition\n",
    "predict = tf.argmax(out_logits,1)\n",
    "\n",
    "with tf.Session() as sess:\n",
    "    sess.run(tf.global_variables_initializer())\n",
    "    \n",
    "    for ep in range(n_epochs):\n",
    "        \n",
    "        # train\n",
    "        ep_err = 0\n",
    "        X_train, y_train = shuffle(X_train, y_train)\n",
    "        start_time = time.time()\n",
    "        for offset in range(0, n_train, batch_size):\n",
    "            end_batch = offset + batch_size\n",
    "            x_batch, y_batch = X_train[offset:end_batch], y_train[offset:end_batch]\n",
    "            _, c = sess.run([optimizer, cost], feed_dict={x:x_batch, y:y_batch})\n",
    "            ep_err += c\n",
    "        end_time = time.time()\n",
    "        print(\"Epoch {}/{}: training cost = {} : time elapsed {}s\".format(ep+1, n_epochs, ep_err, end_time-start_time))\n",
    "        \n",
    "        #\n",
    "        # cross-validation accuracy\n",
    "        #\n",
    "        ep_cv_err = 0.\n",
    "        X_valid, y_valid = shuffle(X_valid, y_valid)\n",
    "        predict_cv = []\n",
    "        for offset in range(0, n_validation, batch_size):\n",
    "            end_batch = offset + batch_size\n",
    "            x_batch_valid, y_batch_valid = X_valid[offset:end_batch], y_valid[offset:end_batch]\n",
    "            c_cv, p_cv = sess.run([accuracy, predict], feed_dict={x:x_batch_valid, y:y_batch_valid})\n",
    "            ep_cv_err += c_cv * len(x_batch_valid)\n",
    "            predict_cv.extend(p_cv)\n",
    "        ep_cv_err = ep_cv_err / n_validation\n",
    "        end_time = time.time()\n",
    "        print(\"Epoch {}/{}: Cross-Validation Accuracy = {} : time elapsed {}s\\n\".format(ep+1, n_epochs, ep_cv_err, end_time-start_time))\n",
    "        \n"
   ]
  },
  {
   "cell_type": "code",
   "execution_count": 24,
   "metadata": {},
   "outputs": [
    {
     "name": "stdout",
     "output_type": "stream",
     "text": [
      "Idx 3728 ---- Input lable: 20 --------- Predicted lable: 28\n"
     ]
    },
    {
     "data": {
      "text/plain": [
       "<matplotlib.image.AxesImage at 0x7f4518fe89b0>"
      ]
     },
     "execution_count": 24,
     "metadata": {},
     "output_type": "execute_result"
    },
    {
     "data": {
      "image/png": "[encoded data removed]",
      "text/plain": [
       "<matplotlib.figure.Figure at 0x7f4518ff2f28>"
      ]
     },
     "metadata": {},
     "output_type": "display_data"
    }
   ],
   "source": [
    "idx = random.randint(0, len(X_valid))\n",
    "print(\"Idx {} ---- Input lable: {} --------- Predicted lable: {}\".format(idx, y_valid[idx], predict_cv[idx]))\n",
    "plt.subplot(121)\n",
    "plt.imshow(X_valid[y_valid[idx]])\n",
    "plt.subplot(122)\n",
    "plt.imshow(X_valid[predict_cv[idx]])\n"
   ]
  },
  {
   "cell_type": "markdown",
   "metadata": {},
   "source": [
    "---\n",
    "\n",
    "## Step 3: Test a Model on New Images\n",
    "\n",
    "To give yourself more insight into how your model is working, download at least five pictures of German traffic signs from the web and use your model to predict the traffic sign type.\n",
    "\n",
    "You may find `signnames.csv` useful as it contains mappings from the class id (integer) to the actual sign name."
   ]
  },
  {
   "cell_type": "markdown",
   "metadata": {},
   "source": [
    "### Load and Output the Images"
   ]
  },
  {
   "cell_type": "code",
   "execution_count": null,
   "metadata": {
    "collapsed": true
   },
   "outputs": [],
   "source": [
    "### Load the images and plot them here.\n",
    "### Feel free to use as many code cells as needed."
   ]
  },
  {
   "cell_type": "markdown",
   "metadata": {},
   "source": [
    "### Predict the Sign Type for Each Image"
   ]
  },
  {
   "cell_type": "code",
   "execution_count": 3,
   "metadata": {
    "collapsed": true
   },
   "outputs": [],
   "source": [
    "### Run the predictions here and use the model to output the prediction for each image.\n",
    "### Make sure to pre-process the images with the same pre-processing pipeline used earlier.\n",
    "### Feel free to use as many code cells as needed."
   ]
  },
  {
   "cell_type": "markdown",
   "metadata": {},
   "source": [
    "### Analyze Performance"
   ]
  },
  {
   "cell_type": "code",
   "execution_count": 4,
   "metadata": {
    "collapsed": true
   },
   "outputs": [],
   "source": [
    "### Calculate the accuracy for these 5 new images. \n",
    "### For example, if the model predicted 1 out of 5 signs correctly, it's 20% accurate on these new images."
   ]
  },
  {
   "cell_type": "markdown",
   "metadata": {},
   "source": [
    "### Output Top 5 Softmax Probabilities For Each Image Found on the Web"
   ]
  },
  {
   "cell_type": "markdown",
   "metadata": {},
   "source": [
    "For each of the new images, print out the model's softmax probabilities to show the **certainty** of the model's predictions (limit the output to the top 5 probabilities for each image). [`tf.nn.top_k`](https://www.tensorflow.org/versions/r0.12/api_docs/python/nn.html#top_k) could prove helpful here. \n",
    "\n",
    "The example below demonstrates how tf.nn.top_k can be used to find the top k predictions for each image.\n",
    "\n",
    "`tf.nn.top_k` will return the values and indices (class ids) of the top k predictions. So if k=3, for each sign, it'll return the 3 largest probabilities (out of a possible 43) and the correspoding class ids.\n",
    "\n",
    "Take this numpy array as an example. The values in the array represent predictions. The array contains softmax probabilities for five candidate images with six possible classes. `tf.nn.top_k` is used to choose the three classes with the highest probability:\n",
    "\n",
    "```\n",
    "# (5, 6) array\n",
    "a = np.array([[ 0.24879643,  0.07032244,  0.12641572,  0.34763842,  0.07893497,\n",
    "         0.12789202],\n",
    "       [ 0.28086119,  0.27569815,  0.08594638,  0.0178669 ,  0.18063401,\n",
    "         0.15899337],\n",
    "       [ 0.26076848,  0.23664738,  0.08020603,  0.07001922,  0.1134371 ,\n",
    "         0.23892179],\n",
    "       [ 0.11943333,  0.29198961,  0.02605103,  0.26234032,  0.1351348 ,\n",
    "         0.16505091],\n",
    "       [ 0.09561176,  0.34396535,  0.0643941 ,  0.16240774,  0.24206137,\n",
    "         0.09155967]])\n",
    "```\n",
    "\n",
    "Running it through `sess.run(tf.nn.top_k(tf.constant(a), k=3))` produces:\n",
    "\n",
    "```\n",
    "TopKV2(values=array([[ 0.34763842,  0.24879643,  0.12789202],\n",
    "       [ 0.28086119,  0.27569815,  0.18063401],\n",
    "       [ 0.26076848,  0.23892179,  0.23664738],\n",
    "       [ 0.29198961,  0.26234032,  0.16505091],\n",
    "       [ 0.34396535,  0.24206137,  0.16240774]]), indices=array([[3, 0, 5],\n",
    "       [0, 1, 4],\n",
    "       [0, 5, 1],\n",
    "       [1, 3, 5],\n",
    "       [1, 4, 3]], dtype=int32))\n",
    "```\n",
    "\n",
    "Looking just at the first row we get `[ 0.34763842,  0.24879643,  0.12789202]`, you can confirm these are the 3 largest probabilities in `a`. You'll also notice `[3, 0, 5]` are the corresponding indices."
   ]
  },
  {
   "cell_type": "code",
   "execution_count": 3,
   "metadata": {
    "collapsed": true
   },
   "outputs": [],
   "source": [
    "### Print out the top five softmax probabilities for the predictions on the German traffic sign images found on the web. \n",
    "### Feel free to use as many code cells as needed."
   ]
  },
  {
   "cell_type": "markdown",
   "metadata": {},
   "source": [
    "### Project Writeup\n",
    "\n",
    "Once you have completed the code implementation, document your results in a project writeup using this [template](https://github.com/udacity/CarND-Traffic-Sign-Classifier-Project/blob/master/writeup_template.md) as a guide. The writeup can be in a markdown or pdf file. "
   ]
  },
  {
   "cell_type": "markdown",
   "metadata": {},
   "source": [
    "> **Note**: Once you have completed all of the code implementations and successfully answered each question above, you may finalize your work by exporting the iPython Notebook as an HTML document. You can do this by using the menu above and navigating to  \\n\",\n",
    "    \"**File -> Download as -> HTML (.html)**. Include the finished document along with this notebook as your submission."
   ]
  },
  {
   "cell_type": "markdown",
   "metadata": {},
   "source": [
    "---\n",
    "\n",
    "## Step 4 (Optional): Visualize the Neural Network's State with Test Images\n",
    "\n",
    " This Section is not required to complete but acts as an additional excersise for understaning the output of a neural network's weights. While neural networks can be a great learning device they are often referred to as a black box. We can understand what the weights of a neural network look like better by plotting their feature maps. After successfully training your neural network you can see what it's feature maps look like by plotting the output of the network's weight layers in response to a test stimuli image. From these plotted feature maps, it's possible to see what characteristics of an image the network finds interesting. For a sign, maybe the inner network feature maps react with high activation to the sign's boundary outline or to the contrast in the sign's painted symbol.\n",
    "\n",
    " Provided for you below is the function code that allows you to get the visualization output of any tensorflow weight layer you want. The inputs to the function should be a stimuli image, one used during training or a new one you provided, and then the tensorflow variable name that represents the layer's state during the training process, for instance if you wanted to see what the [LeNet lab's](https://classroom.udacity.com/nanodegrees/nd013/parts/fbf77062-5703-404e-b60c-95b78b2f3f9e/modules/6df7ae49-c61c-4bb2-a23e-6527e69209ec/lessons/601ae704-1035-4287-8b11-e2c2716217ad/concepts/d4aca031-508f-4e0b-b493-e7b706120f81) feature maps looked like for it's second convolutional layer you could enter conv2 as the tf_activation variable.\n",
    "\n",
    "For an example of what feature map outputs look like, check out NVIDIA's results in their paper [End-to-End Deep Learning for Self-Driving Cars](https://devblogs.nvidia.com/parallelforall/deep-learning-self-driving-cars/) in the section Visualization of internal CNN State. NVIDIA was able to show that their network's inner weights had high activations to road boundary lines by comparing feature maps from an image with a clear path to one without. Try experimenting with a similar test to show that your trained network's weights are looking for interesting features, whether it's looking at differences in feature maps from images with or without a sign, or even what feature maps look like in a trained network vs a completely untrained one on the same sign image.\n",
    "\n",
    "<figure>\n",
    " <img src=\"visualize_cnn.png\" width=\"380\" alt=\"Combined Image\" />\n",
    " <figcaption>\n",
    " <p></p> \n",
    " <p style=\"text-align: center;\"> Your output should look something like this (above)</p> \n",
    " </figcaption>\n",
    "</figure>\n",
    " <p></p> \n"
   ]
  },
  {
   "cell_type": "code",
   "execution_count": null,
   "metadata": {
    "collapsed": true
   },
   "outputs": [],
   "source": [
    "### Visualize your network's feature maps here.\n",
    "### Feel free to use as many code cells as needed.\n",
    "\n",
    "# image_input: the test image being fed into the network to produce the feature maps\n",
    "# tf_activation: should be a tf variable name used during your training procedure that represents the calculated state of a specific weight layer\n",
    "# activation_min/max: can be used to view the activation contrast in more detail, by default matplot sets min and max to the actual min and max values of the output\n",
    "# plt_num: used to plot out multiple different weight feature map sets on the same block, just extend the plt number for each new feature map entry\n",
    "\n",
    "def outputFeatureMap(image_input, tf_activation, activation_min=-1, activation_max=-1 ,plt_num=1):\n",
    "    # Here make sure to preprocess your image_input in a way your network expects\n",
    "    # with size, normalization, ect if needed\n",
    "    # image_input =\n",
    "    # Note: x should be the same name as your network's tensorflow data placeholder variable\n",
    "    # If you get an error tf_activation is not defined it may be having trouble accessing the variable from inside a function\n",
    "    activation = tf_activation.eval(session=sess,feed_dict={x : image_input})\n",
    "    featuremaps = activation.shape[3]\n",
    "    plt.figure(plt_num, figsize=(15,15))\n",
    "    for featuremap in range(featuremaps):\n",
    "        plt.subplot(6,8, featuremap+1) # sets the number of feature maps to show on each row and column\n",
    "        plt.title('FeatureMap ' + str(featuremap)) # displays the feature map number\n",
    "        if activation_min != -1 & activation_max != -1:\n",
    "            plt.imshow(activation[0,:,:, featuremap], interpolation=\"nearest\", vmin =activation_min, vmax=activation_max, cmap=\"gray\")\n",
    "        elif activation_max != -1:\n",
    "            plt.imshow(activation[0,:,:, featuremap], interpolation=\"nearest\", vmax=activation_max, cmap=\"gray\")\n",
    "        elif activation_min !=-1:\n",
    "            plt.imshow(activation[0,:,:, featuremap], interpolation=\"nearest\", vmin=activation_min, cmap=\"gray\")\n",
    "        else:\n",
    "            plt.imshow(activation[0,:,:, featuremap], interpolation=\"nearest\", cmap=\"gray\")"
   ]
  }
 ],
 "metadata": {
  "anaconda-cloud": {},
  "kernelspec": {
   "display_name": "Python 3",
   "language": "python",
   "name": "python3"
  },
  "language_info": {
   "codemirror_mode": {
    "name": "ipython",
    "version": 3
   },
   "file_extension": ".py",
   "mimetype": "text/x-python",
   "name": "python",
   "nbconvert_exporter": "python",
   "pygments_lexer": "ipython3",
   "version": "3.6.1"
  },
  "widgets": {
   "state": {},
   "version": "1.1.2"
  }
 },
 "nbformat": 4,
 "nbformat_minor": 1
}
